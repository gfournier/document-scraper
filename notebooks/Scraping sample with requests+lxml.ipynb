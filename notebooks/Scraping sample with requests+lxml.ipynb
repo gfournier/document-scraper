{
 "cells": [
  {
   "cell_type": "code",
   "execution_count": 16,
   "metadata": {},
   "outputs": [],
   "source": [
    "import requests\n",
    "from lxml import html\n",
    "import re"
   ]
  },
  {
   "cell_type": "markdown",
   "metadata": {},
   "source": [
    "Search for articles in arXiv"
   ]
  },
  {
   "cell_type": "code",
   "execution_count": 17,
   "metadata": {},
   "outputs": [
    {
     "data": {
      "text/plain": [
       "<Response [200]>"
      ]
     },
     "execution_count": 17,
     "metadata": {},
     "output_type": "execute_result"
    }
   ],
   "source": [
    "response = requests.get('https://arxiv.org/search/cs?query=deep+learning&searchtype=all&abstracts=show&order=-announced_date_first&size=25')\n",
    "response"
   ]
  },
  {
   "cell_type": "markdown",
   "metadata": {},
   "source": [
    "Parse response with lxml parser"
   ]
  },
  {
   "cell_type": "code",
   "execution_count": 18,
   "metadata": {},
   "outputs": [
    {
     "data": {
      "text/plain": [
       "<Element html at 0x10fe24278>"
      ]
     },
     "execution_count": 18,
     "metadata": {},
     "output_type": "execute_result"
    }
   ],
   "source": [
    "doc_tree = html.fromstring(response.content)\n",
    "doc_tree"
   ]
  },
  {
   "cell_type": "code",
   "execution_count": 19,
   "metadata": {},
   "outputs": [
    {
     "data": {
      "text/plain": [
       "[<Element a at 0x10fe245e8>,\n",
       " <Element a at 0x10fe24908>,\n",
       " <Element a at 0x10fe244a8>,\n",
       " <Element a at 0x10fe249a8>,\n",
       " <Element a at 0x10fe249f8>,\n",
       " <Element a at 0x10fe24a48>,\n",
       " <Element a at 0x10fe24a98>,\n",
       " <Element a at 0x10fe24ae8>,\n",
       " <Element a at 0x10fe24b38>,\n",
       " <Element a at 0x10fe24b88>,\n",
       " <Element a at 0x10fe24bd8>,\n",
       " <Element a at 0x10fe24c28>,\n",
       " <Element a at 0x10fe24c78>,\n",
       " <Element a at 0x10fe24cc8>,\n",
       " <Element a at 0x10fe24d18>,\n",
       " <Element a at 0x10fe24d68>,\n",
       " <Element a at 0x10fe24db8>,\n",
       " <Element a at 0x10fe24e08>,\n",
       " <Element a at 0x10fe24e58>,\n",
       " <Element a at 0x10fe24ea8>,\n",
       " <Element a at 0x10fe24ef8>,\n",
       " <Element a at 0x10fe24f48>,\n",
       " <Element a at 0x10fe24f98>,\n",
       " <Element a at 0x10fe2c048>,\n",
       " <Element a at 0x10fe2c098>]"
      ]
     },
     "execution_count": 19,
     "metadata": {},
     "output_type": "execute_result"
    }
   ],
   "source": [
    "doc_tree.xpath('//*[@id=\"main-container\"]//li[@class=\"arxiv-result\"]/div/p/a')"
   ]
  },
  {
   "cell_type": "code",
   "execution_count": null,
   "metadata": {},
   "outputs": [],
   "source": []
  },
  {
   "cell_type": "markdown",
   "metadata": {},
   "source": [
    "Search for all links to articles.\n",
    "We get the 25 articles as expected."
   ]
  },
  {
   "cell_type": "code",
   "execution_count": 20,
   "metadata": {},
   "outputs": [
    {
     "data": {
      "text/plain": [
       "25"
      ]
     },
     "execution_count": 20,
     "metadata": {},
     "output_type": "execute_result"
    }
   ],
   "source": [
    "links = doc_tree.xpath('//li[@class=\"arxiv-result\"]/div/p/a')\n",
    "len(links)"
   ]
  },
  {
   "cell_type": "code",
   "execution_count": 26,
   "metadata": {},
   "outputs": [
    {
     "data": {
      "text/plain": [
       "'https://arxiv.org/abs/2004.11364'"
      ]
     },
     "execution_count": 26,
     "metadata": {},
     "output_type": "execute_result"
    }
   ],
   "source": [
    "first_article_url = links[0].xpath(\"@href\")[0]\n",
    "first_article_url"
   ]
  },
  {
   "cell_type": "markdown",
   "metadata": {},
   "source": [
    "Get the page corresponding to the article"
   ]
  },
  {
   "cell_type": "code",
   "execution_count": 27,
   "metadata": {},
   "outputs": [
    {
     "data": {
      "text/plain": [
       "<Response [200]>"
      ]
     },
     "execution_count": 27,
     "metadata": {},
     "output_type": "execute_result"
    }
   ],
   "source": [
    "response2 = requests.get(first_article_url)\n",
    "response2"
   ]
  },
  {
   "cell_type": "code",
   "execution_count": 28,
   "metadata": {},
   "outputs": [
    {
     "data": {
      "text/plain": [
       "<Element html at 0x10fe2cf48>"
      ]
     },
     "execution_count": 28,
     "metadata": {},
     "output_type": "execute_result"
    }
   ],
   "source": [
    "doc_tree2 = html.fromstring(response2.content)\n",
    "doc_tree2"
   ]
  },
  {
   "cell_type": "markdown",
   "metadata": {},
   "source": [
    "Search for authors"
   ]
  },
  {
   "cell_type": "code",
   "execution_count": 97,
   "metadata": {},
   "outputs": [
    {
     "name": "stdout",
     "output_type": "stream",
     "text": [
      "Richard Tucker\n",
      "Noah Snavely\n"
     ]
    }
   ],
   "source": [
    "for element in doc_tree2.xpath('//*[@id=\"abs\"]/div[@class=\"authors\"]//a'):\n",
    "    print(element.text)\n",
    "    "
   ]
  },
  {
   "cell_type": "code",
   "execution_count": 98,
   "metadata": {},
   "outputs": [
    {
     "name": "stdout",
     "output_type": "stream",
     "text": [
      "Title:\n"
     ]
    }
   ],
   "source": [
    "for title in doc_tree2.xpath('//div[@id=\"abs\"]//h1[@class=\"title mathjax\"]//*[text()]'):\n",
    "    print(title.text)\n",
    "    \n",
    "\n",
    "\n",
    "    \n",
    "#Titre récupérer dans deuxième page, ne fonctionne pas \n",
    "#//div[@id=\"abs\"]//*[@class=\"title mathjax\"]//*[text()]\n",
    "\n",
    "#Titre récupérer dans 1ere page, fonctionne\n",
    "#doc_tree.xpath('//*[@id=\"main-container\"]//*[@class= \"title is-5 mathjax\"]')"
   ]
  },
  {
   "cell_type": "code",
   "execution_count": 99,
   "metadata": {},
   "outputs": [
    {
     "data": {
      "text/plain": [
       "'\\n  \\n  \\n  \\n    \\n  \\n  \\n    \\n    \\n  \\n\\n  [Submitted on 23 Apr 2020]'"
      ]
     },
     "execution_count": 99,
     "metadata": {},
     "output_type": "execute_result"
    }
   ],
   "source": [
    "date_str = doc_tree2.xpath('//div[@class=\"dateline\"]')[0].text\n",
    "date_str"
   ]
  },
  {
   "cell_type": "code",
   "execution_count": 11,
   "metadata": {},
   "outputs": [
    {
     "data": {
      "text/plain": [
       "'22 Apr 2020'"
      ]
     },
     "execution_count": 11,
     "metadata": {},
     "output_type": "execute_result"
    }
   ],
   "source": [
    "re.findall('Submitted on (.*)]', date_str)[0]"
   ]
  },
  {
   "cell_type": "markdown",
   "metadata": {},
   "source": [
    "Search for PDF link"
   ]
  },
  {
   "cell_type": "code",
   "execution_count": 12,
   "metadata": {},
   "outputs": [
    {
     "data": {
      "text/plain": [
       "'/pdf/2004.10746'"
      ]
     },
     "execution_count": 12,
     "metadata": {},
     "output_type": "execute_result"
    }
   ],
   "source": [
    "pdf_element = doc_tree2.xpath('//div[@class=\"full-text\"]//a[text()=\"PDF\"]')[0]\n",
    "pdf_url = pdf_element.xpath(\"@href\")[0]\n",
    "pdf_url\n"
   ]
  },
  {
   "cell_type": "code",
   "execution_count": 13,
   "metadata": {},
   "outputs": [
    {
     "data": {
      "text/plain": [
       "<Response [200]>"
      ]
     },
     "execution_count": 13,
     "metadata": {},
     "output_type": "execute_result"
    }
   ],
   "source": [
    "response3 = requests.get(f\"https://arxiv.org/{pdf_url}\")\n",
    "response3"
   ]
  },
  {
   "cell_type": "code",
   "execution_count": 14,
   "metadata": {},
   "outputs": [
    {
     "data": {
      "text/plain": [
       "'application/pdf'"
      ]
     },
     "execution_count": 14,
     "metadata": {},
     "output_type": "execute_result"
    }
   ],
   "source": [
    "response3.headers['Content-Type']"
   ]
  },
  {
   "cell_type": "code",
   "execution_count": 15,
   "metadata": {},
   "outputs": [
    {
     "data": {
      "text/html": [
       "\n",
       "        <iframe\n",
       "            width=\"600\"\n",
       "            height=\"800\"\n",
       "            src=\"https://arxiv.org//pdf/2004.10746\"\n",
       "            frameborder=\"0\"\n",
       "            allowfullscreen\n",
       "        ></iframe>\n",
       "        "
      ],
      "text/plain": [
       "<IPython.lib.display.IFrame at 0x109463e80>"
      ]
     },
     "execution_count": 15,
     "metadata": {},
     "output_type": "execute_result"
    }
   ],
   "source": [
    "from IPython.display import IFrame\n",
    "IFrame(f\"https://arxiv.org/{pdf_url}\", width=600, height=800)"
   ]
  },
  {
   "cell_type": "code",
   "execution_count": null,
   "metadata": {},
   "outputs": [],
   "source": []
  }
 ],
 "metadata": {
  "kernelspec": {
   "display_name": "Python 3",
   "language": "python",
   "name": "python3"
  },
  "language_info": {
   "codemirror_mode": {
    "name": "ipython",
    "version": 3
   },
   "file_extension": ".py",
   "mimetype": "text/x-python",
   "name": "python",
   "nbconvert_exporter": "python",
   "pygments_lexer": "ipython3",
   "version": "3.7.3"
  }
 },
 "nbformat": 4,
 "nbformat_minor": 4
}
